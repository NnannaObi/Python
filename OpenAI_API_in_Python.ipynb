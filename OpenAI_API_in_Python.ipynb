{
  "nbformat": 4,
  "nbformat_minor": 0,
  "metadata": {
    "colab": {
      "provenance": [],
      "include_colab_link": true
    },
    "kernelspec": {
      "name": "python3",
      "display_name": "Python 3"
    },
    "language_info": {
      "name": "python"
    }
  },
  "cells": [
    {
      "cell_type": "markdown",
      "metadata": {
        "id": "view-in-github",
        "colab_type": "text"
      },
      "source": [
        "<a href=\"https://colab.research.google.com/github/analyticswithadam/Python/blob/main/OpenAI_API_in_Python.ipynb\" target=\"_parent\"><img src=\"https://colab.research.google.com/assets/colab-badge.svg\" alt=\"Open In Colab\"/></a>"
      ]
    },
    {
      "cell_type": "code",
      "execution_count": null,
      "metadata": {
        "id": "1YP6-sABwTEv"
      },
      "outputs": [],
      "source": [
        "# get the openai secret key\n",
        "import getpass\n",
        "\n",
        "# https://platform.openai.com/account/api-keys\n",
        "secret_key = getpass.getpass('Please enter your openai key: ')"
      ]
    },
    {
      "cell_type": "code",
      "source": [
        "!pip install openai"
      ],
      "metadata": {
        "id": "pUl4Xe2FwYJ1"
      },
      "execution_count": null,
      "outputs": []
    },
    {
      "cell_type": "code",
      "source": [
        "from openai import OpenAI\n",
        "client = OpenAI(api_key=secret_key)\n",
        "\n",
        "def get_response(role, prompt):\n",
        "  response = client.chat.completions.create(\n",
        "  model=\"gpt-3.5-turbo\",\n",
        "  messages=[\n",
        "    {\n",
        "      \"role\": \"system\",\n",
        "      \"content\": f\"\"\" {role} \"\"\"\n",
        "    },\n",
        "    {\n",
        "      \"role\": \"user\",\n",
        "      \"content\": f\"\"\"{prompt} \"\"\"\n",
        "    }\n",
        "    ],\n",
        "      temperature=.25,\n",
        "      max_tokens=1000,\n",
        "      top_p=1,\n",
        "      frequency_penalty=0,\n",
        "      presence_penalty=0\n",
        "    )\n",
        "  return response.choices[0].message.content"
      ],
      "metadata": {
        "id": "416nypIKwYEv"
      },
      "execution_count": null,
      "outputs": []
    },
    {
      "cell_type": "code",
      "source": [
        "# Collect Info\n",
        "Role = \"\"\"You are an expert in business. I want you to classify\n",
        "these companies in to their industries in one word\"\"\"\n",
        "Companies = \"IBM, Netflix, Chase, Meta\"\n"
      ],
      "metadata": {
        "id": "Alr4sMQUzChH"
      },
      "execution_count": null,
      "outputs": []
    },
    {
      "cell_type": "code",
      "source": [
        "print(get_response(Role, Companies))"
      ],
      "metadata": {
        "id": "yGv6KAyP4p5p"
      },
      "execution_count": null,
      "outputs": []
    },
    {
      "cell_type": "code",
      "source": [
        "\n",
        "def get_response(role, example, examplea, prompt):\n",
        "  response = client.chat.completions.create(\n",
        "  model=\"gpt-3.5-turbo\",\n",
        "  messages=[\n",
        "    {\n",
        "      \"role\": \"system\",\n",
        "      \"content\": f\"\"\" {role} \"\"\"\n",
        "    },\n",
        "    {\n",
        "      \"role\": \"user\",\n",
        "      \"content\": f\"\"\" {example} \"\"\"\n",
        "    },\n",
        "    {\n",
        "      \"role\": \"assistant\",\n",
        "      \"content\": f\"\"\" {examplea} \"\"\"\n",
        "    },\n",
        "     {\n",
        "      \"role\": \"user\",\n",
        "      \"content\": f\"\"\"{prompt} \"\"\"\n",
        "    }\n",
        "    ],\n",
        "      temperature=.25,\n",
        "      max_tokens=1000,\n",
        "      top_p=1,\n",
        "      frequency_penalty=0,\n",
        "      presence_penalty=0\n",
        "    )\n",
        "  return response.choices[0].message.content"
      ],
      "metadata": {
        "id": "PoX_L2qnAbHR"
      },
      "execution_count": null,
      "outputs": []
    },
    {
      "cell_type": "code",
      "source": [
        "# Collect Info\n",
        "\n",
        "Role = \"\"\"You are an expert in business. I want you to classify\n",
        "these companies in to their industries in one word\"\"\"\n",
        "ExampleQ = \"Apple, Microsoft, JP Morgan\"\n",
        "ExampleA = \"Tech, Tech, FS\"\n",
        "Companies = \"IBM, Netflix, Meta, Citi\""
      ],
      "metadata": {
        "id": "XKABfKsQAftb"
      },
      "execution_count": null,
      "outputs": []
    },
    {
      "cell_type": "markdown",
      "source": [],
      "metadata": {
        "id": "b3qHoUwBCF_k"
      }
    },
    {
      "cell_type": "code",
      "source": [
        "print(get_response(Role, ExampleQ, ExampleA, Companies))"
      ],
      "metadata": {
        "id": "i7MWraIcAimy"
      },
      "execution_count": null,
      "outputs": []
    }
  ]
}