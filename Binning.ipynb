{
  "nbformat": 4,
  "nbformat_minor": 0,
  "metadata": {
    "colab": {
      "name": "Binning.ipynb",
      "provenance": [],
      "authorship_tag": "ABX9TyNkIYmu1JGWfSs1T/1yGaMp",
      "include_colab_link": true
    },
    "kernelspec": {
      "name": "python3",
      "display_name": "Python 3"
    },
    "language_info": {
      "name": "python"
    }
  },
  "cells": [
    {
      "cell_type": "markdown",
      "metadata": {
        "id": "view-in-github",
        "colab_type": "text"
      },
      "source": [
        "<a href=\"https://colab.research.google.com/github/SuperDataWorld/Python/blob/main/Binning.ipynb\" target=\"_parent\"><img src=\"https://colab.research.google.com/assets/colab-badge.svg\" alt=\"Open In Colab\"/></a>"
      ]
    },
    {
      "cell_type": "code",
      "execution_count": null,
      "metadata": {
        "id": "siFijo0HbiPZ"
      },
      "outputs": [],
      "source": [
        "import pandas as pd\n",
        "df = pd.read_csv('https://raw.githubusercontent.com/SuperDataWorld/Python/main/Data/StudentsPerformance.csv')"
      ]
    },
    {
      "cell_type": "code",
      "source": [
        "df.head()"
      ],
      "metadata": {
        "id": "oTYCuxBTbsbX"
      },
      "execution_count": null,
      "outputs": []
    },
    {
      "cell_type": "code",
      "source": [
        "df.columns"
      ],
      "metadata": {
        "id": "iZJPRWV6bseN"
      },
      "execution_count": null,
      "outputs": []
    },
    {
      "cell_type": "code",
      "source": [
        "df.columns = ['gender', 'ethnicity', 'parentaledu', 'lunch', 'prep', 'math', 'reading','writing']"
      ],
      "metadata": {
        "id": "dI2HH_obbsgQ"
      },
      "execution_count": null,
      "outputs": []
    },
    {
      "cell_type": "code",
      "source": [
        "df.head()"
      ],
      "metadata": {
        "id": "CjhvWkYvbsiC"
      },
      "execution_count": null,
      "outputs": []
    },
    {
      "cell_type": "code",
      "source": [
        "df.parentaledu.value_counts()"
      ],
      "metadata": {
        "id": "8c_bwK9pbska"
      },
      "execution_count": null,
      "outputs": []
    },
    {
      "cell_type": "code",
      "source": [
        "#Dummy Bins\n",
        "pd.get_dummies(df.parentaledu)"
      ],
      "metadata": {
        "id": "dmoOGbovkE7U"
      },
      "execution_count": null,
      "outputs": []
    },
    {
      "cell_type": "code",
      "source": [
        "# Numeric Bins\n",
        "\n",
        "df['parentaledu'] = pd.Categorical(df.parentaledu, ordered = True, \n",
        "  categories = [\"some high school\",\"high school\",\"some college\",\"associate's degree\",\"bachelor's degree\",\"master's degree\"])\n",
        "\n",
        "print(df.parentaledu.min())\n",
        "print(df.parentaledu.max())\n",
        "df['parentaledu']\n"
      ],
      "metadata": {
        "id": "9Eze0LmRkDSI"
      },
      "execution_count": null,
      "outputs": []
    },
    {
      "cell_type": "code",
      "source": [
        "df['parentaledu'].cat.codes"
      ],
      "metadata": {
        "id": "5daZ708WE_0r"
      },
      "execution_count": null,
      "outputs": []
    },
    {
      "cell_type": "code",
      "source": [
        "df.reading.hist()"
      ],
      "metadata": {
        "id": "Tu2S-IdNdEt6"
      },
      "execution_count": null,
      "outputs": []
    },
    {
      "cell_type": "code",
      "source": [
        "lables = ['low','average','high']\n",
        "\n",
        "#Equi-width Bining\n",
        "\n",
        "df['readingrank'] = pd.cut(df.reading, bins = 3, labels = lables)\n",
        "df.readingrank.value_counts()"
      ],
      "metadata": {
        "id": "t_9T6IXIdRPj"
      },
      "execution_count": null,
      "outputs": []
    },
    {
      "cell_type": "code",
      "source": [
        "df.groupby('readingrank')['reading'].mean()"
      ],
      "metadata": {
        "id": "jUBewmYdhlcH"
      },
      "execution_count": null,
      "outputs": []
    },
    {
      "cell_type": "code",
      "source": [
        "#Equi-depth Bining\n",
        "df['readingrank2'] = pd.qcut(df.reading, q = 3, labels = lables)\n",
        "df.readingrank2.value_counts()"
      ],
      "metadata": {
        "id": "REOcP8Y4dgdO"
      },
      "execution_count": null,
      "outputs": []
    },
    {
      "cell_type": "code",
      "source": [
        "df.groupby('readingrank2')['reading'].mean()"
      ],
      "metadata": {
        "id": "HURmWIg5dRVE"
      },
      "execution_count": null,
      "outputs": []
    }
  ]
}