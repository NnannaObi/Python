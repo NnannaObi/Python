{
  "nbformat": 4,
  "nbformat_minor": 0,
  "metadata": {
    "colab": {
      "name": "Categorical_Encoding.ipynb",
      "provenance": [],
      "authorship_tag": "ABX9TyPSJcA8vtQK+Vf9RPk7UAuB",
      "include_colab_link": true
    },
    "kernelspec": {
      "name": "python3",
      "display_name": "Python 3"
    },
    "language_info": {
      "name": "python"
    }
  },
  "cells": [
    {
      "cell_type": "markdown",
      "metadata": {
        "id": "view-in-github",
        "colab_type": "text"
      },
      "source": [
        "<a href=\"https://colab.research.google.com/github/SuperDataWorld/Python/blob/main/Categorical_Encoding.ipynb\" target=\"_parent\"><img src=\"https://colab.research.google.com/assets/colab-badge.svg\" alt=\"Open In Colab\"/></a>"
      ]
    },
    {
      "cell_type": "markdown",
      "metadata": {
        "id": "eVbc2PHZVp-i"
      },
      "source": [
        "## Imports"
      ]
    },
    {
      "cell_type": "code",
      "metadata": {
        "id": "ipCPKpl3U0q6"
      },
      "source": [
        "import pandas as pd\n",
        "import numpy as np"
      ],
      "execution_count": null,
      "outputs": []
    },
    {
      "cell_type": "markdown",
      "metadata": {
        "id": "Ex5FrY4zVvlo"
      },
      "source": [
        "## Import Data"
      ]
    },
    {
      "cell_type": "code",
      "metadata": {
        "id": "PmD0nWFJvj6E"
      },
      "source": [
        "! wget https://raw.githubusercontent.com/SuperDataWorld/Python/main/Data/bmw.csv"
      ],
      "execution_count": null,
      "outputs": []
    },
    {
      "cell_type": "code",
      "metadata": {
        "id": "iaQxndU_uWXz"
      },
      "source": [
        "df = pd.read_csv('bmw.csv')\n",
        "df.head()"
      ],
      "execution_count": null,
      "outputs": []
    },
    {
      "cell_type": "markdown",
      "metadata": {
        "id": "1udURtgOWpCw"
      },
      "source": [
        "# Investigate Data"
      ]
    },
    {
      "cell_type": "code",
      "metadata": {
        "id": "S91wvDtEWons"
      },
      "source": [
        "df.info()"
      ],
      "execution_count": null,
      "outputs": []
    },
    {
      "cell_type": "code",
      "metadata": {
        "id": "ysxj4Kf9WuCJ"
      },
      "source": [
        "col_list = df.columns\n",
        "\n",
        "for i in col_list:\n",
        "  print(i+' values \\n')\n",
        "  print(df[i].value_counts())"
      ],
      "execution_count": null,
      "outputs": []
    },
    {
      "cell_type": "markdown",
      "metadata": {
        "id": "81kQh9NhX12c"
      },
      "source": [
        "## Convert to Category"
      ]
    },
    {
      "cell_type": "code",
      "metadata": {
        "id": "tQBjOl8XX5kk"
      },
      "source": [
        "conversion_list = ['engineSize','fuelType','year','model']\n",
        "for i in conversion_list:\n",
        "  df[i] = df[i].astype('category')\n",
        "\n",
        "df.info()"
      ],
      "execution_count": null,
      "outputs": []
    },
    {
      "cell_type": "code",
      "metadata": {
        "id": "bV6Mk2h2YiA8"
      },
      "source": [
        "df.head()"
      ],
      "execution_count": null,
      "outputs": []
    },
    {
      "cell_type": "markdown",
      "metadata": {
        "id": "gfwqnoopY4kY"
      },
      "source": [
        "## Method 1 Get Dummies"
      ]
    },
    {
      "cell_type": "code",
      "metadata": {
        "id": "xP9alx3zY0FW"
      },
      "source": [
        "df2 = pd.get_dummies(df)\n",
        "df2.head()"
      ],
      "execution_count": null,
      "outputs": []
    },
    {
      "cell_type": "markdown",
      "metadata": {
        "id": "-iJfsrJCZaYe"
      },
      "source": [
        "## Binning"
      ]
    },
    {
      "cell_type": "code",
      "metadata": {
        "id": "iCn5nJkUZWRS"
      },
      "source": [
        "#df['engine_bin'] = pd.cut(df.engineSize, 4, labels = ['bin1','bin2','bin3','bin4'])\n",
        "df['engine_bin'] = pd.cut(df.engineSize, 4)\n",
        "df.head()\n",
        "df3 = df.drop(['engineSize'], axis = 1)\n",
        "pd.get_dummies(df3)"
      ],
      "execution_count": null,
      "outputs": []
    },
    {
      "cell_type": "code",
      "metadata": {
        "id": "03VkQYNqbQNO"
      },
      "source": [
        ""
      ],
      "execution_count": null,
      "outputs": []
    }
  ]
}