{
  "nbformat": 4,
  "nbformat_minor": 0,
  "metadata": {
    "colab": {
      "provenance": [],
      "include_colab_link": true
    },
    "kernelspec": {
      "name": "python3",
      "display_name": "Python 3"
    },
    "language_info": {
      "name": "python"
    }
  },
  "cells": [
    {
      "cell_type": "markdown",
      "metadata": {
        "id": "view-in-github",
        "colab_type": "text"
      },
      "source": [
        "<a href=\"https://colab.research.google.com/github/analyticswithadam/Python/blob/main/GPT_4o_Supplier_Analysis.ipynb\" target=\"_parent\"><img src=\"https://colab.research.google.com/assets/colab-badge.svg\" alt=\"Open In Colab\"/></a>"
      ]
    },
    {
      "cell_type": "code",
      "source": [
        "# get the openai secret key\n",
        "import pandas\n",
        "import getpass\n",
        "secret_key = getpass.getpass('Please enter your openai key: ')\n",
        "from IPython.display import display, Markdown"
      ],
      "metadata": {
        "id": "c1rYBN0yrbWN",
        "colab": {
          "base_uri": "https://localhost:8080/"
        },
        "outputId": "b67e0ca8-e2fc-4b02-82f1-8ca7ad0a7c85"
      },
      "execution_count": 1,
      "outputs": [
        {
          "name": "stdout",
          "output_type": "stream",
          "text": [
            "Please enter your openai key: ··········\n"
          ]
        }
      ]
    },
    {
      "cell_type": "code",
      "source": [
        "!pip install openai"
      ],
      "metadata": {
        "id": "JuZBdwmro4-B",
        "colab": {
          "base_uri": "https://localhost:8080/"
        },
        "outputId": "c8899d53-1841-48dc-be2c-bcb70248d3f8"
      },
      "execution_count": 2,
      "outputs": [
        {
          "output_type": "stream",
          "name": "stdout",
          "text": [
            "Collecting openai\n",
            "  Downloading openai-1.30.1-py3-none-any.whl (320 kB)\n",
            "\u001b[2K     \u001b[90m━━━━━━━━━━━━━━━━━━━━━━━━━━━━━━━━━━━━━━━━\u001b[0m \u001b[32m320.6/320.6 kB\u001b[0m \u001b[31m6.2 MB/s\u001b[0m eta \u001b[36m0:00:00\u001b[0m\n",
            "\u001b[?25hRequirement already satisfied: anyio<5,>=3.5.0 in /usr/local/lib/python3.10/dist-packages (from openai) (3.7.1)\n",
            "Requirement already satisfied: distro<2,>=1.7.0 in /usr/lib/python3/dist-packages (from openai) (1.7.0)\n",
            "Collecting httpx<1,>=0.23.0 (from openai)\n",
            "  Downloading httpx-0.27.0-py3-none-any.whl (75 kB)\n",
            "\u001b[2K     \u001b[90m━━━━━━━━━━━━━━━━━━━━━━━━━━━━━━━━━━━━━━━━\u001b[0m \u001b[32m75.6/75.6 kB\u001b[0m \u001b[31m11.3 MB/s\u001b[0m eta \u001b[36m0:00:00\u001b[0m\n",
            "\u001b[?25hRequirement already satisfied: pydantic<3,>=1.9.0 in /usr/local/lib/python3.10/dist-packages (from openai) (2.7.1)\n",
            "Requirement already satisfied: sniffio in /usr/local/lib/python3.10/dist-packages (from openai) (1.3.1)\n",
            "Requirement already satisfied: tqdm>4 in /usr/local/lib/python3.10/dist-packages (from openai) (4.66.4)\n",
            "Requirement already satisfied: typing-extensions<5,>=4.7 in /usr/local/lib/python3.10/dist-packages (from openai) (4.11.0)\n",
            "Requirement already satisfied: idna>=2.8 in /usr/local/lib/python3.10/dist-packages (from anyio<5,>=3.5.0->openai) (3.7)\n",
            "Requirement already satisfied: exceptiongroup in /usr/local/lib/python3.10/dist-packages (from anyio<5,>=3.5.0->openai) (1.2.1)\n",
            "Requirement already satisfied: certifi in /usr/local/lib/python3.10/dist-packages (from httpx<1,>=0.23.0->openai) (2024.2.2)\n",
            "Collecting httpcore==1.* (from httpx<1,>=0.23.0->openai)\n",
            "  Downloading httpcore-1.0.5-py3-none-any.whl (77 kB)\n",
            "\u001b[2K     \u001b[90m━━━━━━━━━━━━━━━━━━━━━━━━━━━━━━━━━━━━━━━━\u001b[0m \u001b[32m77.9/77.9 kB\u001b[0m \u001b[31m11.4 MB/s\u001b[0m eta \u001b[36m0:00:00\u001b[0m\n",
            "\u001b[?25hCollecting h11<0.15,>=0.13 (from httpcore==1.*->httpx<1,>=0.23.0->openai)\n",
            "  Downloading h11-0.14.0-py3-none-any.whl (58 kB)\n",
            "\u001b[2K     \u001b[90m━━━━━━━━━━━━━━━━━━━━━━━━━━━━━━━━━━━━━━━━\u001b[0m \u001b[32m58.3/58.3 kB\u001b[0m \u001b[31m8.2 MB/s\u001b[0m eta \u001b[36m0:00:00\u001b[0m\n",
            "\u001b[?25hRequirement already satisfied: annotated-types>=0.4.0 in /usr/local/lib/python3.10/dist-packages (from pydantic<3,>=1.9.0->openai) (0.6.0)\n",
            "Requirement already satisfied: pydantic-core==2.18.2 in /usr/local/lib/python3.10/dist-packages (from pydantic<3,>=1.9.0->openai) (2.18.2)\n",
            "Installing collected packages: h11, httpcore, httpx, openai\n",
            "Successfully installed h11-0.14.0 httpcore-1.0.5 httpx-0.27.0 openai-1.30.1\n"
          ]
        }
      ]
    },
    {
      "cell_type": "code",
      "source": [
        "%pip install alpha_vantage"
      ],
      "metadata": {
        "id": "XX9820Ks7zB1",
        "colab": {
          "base_uri": "https://localhost:8080/"
        },
        "outputId": "90959faa-9157-4359-b442-47f8517df629"
      },
      "execution_count": 3,
      "outputs": [
        {
          "output_type": "stream",
          "name": "stdout",
          "text": [
            "Collecting alpha_vantage\n",
            "  Downloading alpha_vantage-2.3.1-py3-none-any.whl (31 kB)\n",
            "Requirement already satisfied: aiohttp in /usr/local/lib/python3.10/dist-packages (from alpha_vantage) (3.9.5)\n",
            "Requirement already satisfied: requests in /usr/local/lib/python3.10/dist-packages (from alpha_vantage) (2.31.0)\n",
            "Requirement already satisfied: aiosignal>=1.1.2 in /usr/local/lib/python3.10/dist-packages (from aiohttp->alpha_vantage) (1.3.1)\n",
            "Requirement already satisfied: attrs>=17.3.0 in /usr/local/lib/python3.10/dist-packages (from aiohttp->alpha_vantage) (23.2.0)\n",
            "Requirement already satisfied: frozenlist>=1.1.1 in /usr/local/lib/python3.10/dist-packages (from aiohttp->alpha_vantage) (1.4.1)\n",
            "Requirement already satisfied: multidict<7.0,>=4.5 in /usr/local/lib/python3.10/dist-packages (from aiohttp->alpha_vantage) (6.0.5)\n",
            "Requirement already satisfied: yarl<2.0,>=1.0 in /usr/local/lib/python3.10/dist-packages (from aiohttp->alpha_vantage) (1.9.4)\n",
            "Requirement already satisfied: async-timeout<5.0,>=4.0 in /usr/local/lib/python3.10/dist-packages (from aiohttp->alpha_vantage) (4.0.3)\n",
            "Requirement already satisfied: charset-normalizer<4,>=2 in /usr/local/lib/python3.10/dist-packages (from requests->alpha_vantage) (3.3.2)\n",
            "Requirement already satisfied: idna<4,>=2.5 in /usr/local/lib/python3.10/dist-packages (from requests->alpha_vantage) (3.7)\n",
            "Requirement already satisfied: urllib3<3,>=1.21.1 in /usr/local/lib/python3.10/dist-packages (from requests->alpha_vantage) (2.0.7)\n",
            "Requirement already satisfied: certifi>=2017.4.17 in /usr/local/lib/python3.10/dist-packages (from requests->alpha_vantage) (2024.2.2)\n",
            "Installing collected packages: alpha_vantage\n",
            "Successfully installed alpha_vantage-2.3.1\n"
          ]
        }
      ]
    },
    {
      "cell_type": "code",
      "source": [
        "import requests\n",
        "import json\n",
        "from IPython.display import display, Markdown\n",
        "\n",
        "api_key = 'GET API KEY'\n",
        "ticker = 'DIS'  # Example ticker\n",
        "\n",
        "# Function to fetch financial data\n",
        "def fetch_financial_data(function, ticker, api_key):\n",
        "    url = f\"https://www.alphavantage.co/query?function={function}&symbol={ticker}&apikey={api_key}\"\n",
        "    response = requests.get(url)\n",
        "    if response.status_code == 200:\n",
        "        return response.json()\n",
        "    else:\n",
        "        print(f\"Error fetching {function} data.\")\n",
        "        return None\n",
        "\n",
        "# Fetch income statement\n",
        "income_statement = fetch_financial_data(\"INCOME_STATEMENT\", ticker, api_key)\n",
        "\n",
        "\n",
        "\n",
        "# Fetch balance sheet\n",
        "balance_sheet = fetch_financial_data(\"BALANCE_SHEET\", ticker, api_key)"
      ],
      "metadata": {
        "id": "u7xujhsgxTDR"
      },
      "execution_count": 4,
      "outputs": []
    },
    {
      "cell_type": "code",
      "source": [
        "# Assuming you've already fetched the balance sheet data as 'balance_sheet'\n",
        "quarterly_income_reports = income_statement['quarterlyReports'][:4]\n",
        "quarterly_balance_reports = balance_sheet['quarterlyReports'][:4]\n",
        "\n",
        "formatted_data = {\"financialData\": []}\n",
        "\n",
        "# Iterate through the income reports and balance reports simultaneously\n",
        "for income_report, balance_report in zip(quarterly_income_reports, quarterly_balance_reports):\n",
        "    # Filter out entries with values \"None\" or an empty string for income statement\n",
        "    formatted_income_report = {k: v for k, v in income_report.items() if v not in [\"None\", \"\"]}\n",
        "    # Filter out entries with values \"None\" or an empty string for balance sheet\n",
        "    formatted_balance_report = {k: v for k, v in balance_report.items() if v not in [\"None\", \"\"]}\n",
        "    # Combine the data from both reports\n",
        "    formatted_report = {**formatted_income_report, **formatted_balance_report}\n",
        "    # Append the combined report to the financialData list\n",
        "    formatted_data[\"financialData\"].append(formatted_report)\n",
        "\n",
        "# Convert the combined data to a JSON string\n",
        "out_string = json.dumps(formatted_data, indent=4)\n",
        "print(out_string)"
      ],
      "metadata": {
        "id": "YcTyS-IhCvmu",
        "colab": {
          "base_uri": "https://localhost:8080/"
        },
        "outputId": "0d769136-8951-4536-db73-09a2cc4e33ee"
      },
      "execution_count": 5,
      "outputs": [
        {
          "output_type": "stream",
          "name": "stdout",
          "text": [
            "{\n",
            "    \"financialData\": [\n",
            "        {\n",
            "            \"fiscalDateEnding\": \"2024-03-31\",\n",
            "            \"reportedCurrency\": \"USD\",\n",
            "            \"grossProfit\": \"15910000000\",\n",
            "            \"totalRevenue\": \"22083000000\",\n",
            "            \"costOfRevenue\": \"6173000000\",\n",
            "            \"costofGoodsAndServicesSold\": \"15398000000\",\n",
            "            \"operatingIncome\": \"3845000000\",\n",
            "            \"sellingGeneralAndAdministrative\": \"3790000000\",\n",
            "            \"operatingExpenses\": \"6667000000\",\n",
            "            \"investmentIncomeNet\": \"87000000\",\n",
            "            \"netInterestIncome\": \"-311000000\",\n",
            "            \"interestIncome\": \"190000000\",\n",
            "            \"interestExpense\": \"501000000\",\n",
            "            \"otherNonOperatingIncome\": \"0\",\n",
            "            \"depreciationAndAmortization\": \"434000000\",\n",
            "            \"incomeBeforeTax\": \"421000000\",\n",
            "            \"incomeTaxExpense\": \"441000000\",\n",
            "            \"interestAndDebtExpense\": \"501000000\",\n",
            "            \"netIncomeFromContinuingOperations\": \"216000000\",\n",
            "            \"comprehensiveIncomeNetOfTax\": \"-27000000\",\n",
            "            \"ebit\": \"922000000\",\n",
            "            \"ebitda\": \"1356000000\",\n",
            "            \"netIncome\": \"-20000000\",\n",
            "            \"totalAssets\": \"195110000000\",\n",
            "            \"totalCurrentAssets\": \"24636000000\",\n",
            "            \"cashAndCashEquivalentsAtCarryingValue\": \"6635000000\",\n",
            "            \"cashAndShortTermInvestments\": \"6635000000\",\n",
            "            \"inventory\": \"1948000000\",\n",
            "            \"currentNetReceivables\": \"12026000000\",\n",
            "            \"totalNonCurrentAssets\": \"139103000000\",\n",
            "            \"propertyPlantEquipment\": \"35525000000\",\n",
            "            \"accumulatedDepreciationAmortizationPPE\": \"44065000000\",\n",
            "            \"intangibleAssets\": \"85388000000\",\n",
            "            \"intangibleAssetsExcludingGoodwill\": \"11474000000\",\n",
            "            \"goodwill\": \"73914000000\",\n",
            "            \"longTermInvestments\": \"3007000000\",\n",
            "            \"otherCurrentAssets\": \"2106000000\",\n",
            "            \"otherNonCurrentAssets\": \"13964000000\",\n",
            "            \"totalLiabilities\": \"95858000000\",\n",
            "            \"totalCurrentLiabilities\": \"32874000000\",\n",
            "            \"deferredRevenue\": \"8197000000\",\n",
            "            \"currentDebt\": \"6789000000\",\n",
            "            \"shortTermDebt\": \"6789000000\",\n",
            "            \"totalNonCurrentLiabilities\": \"52905000000\",\n",
            "            \"longTermDebt\": \"0\",\n",
            "            \"currentLongTermDebt\": \"6789000000\",\n",
            "            \"longTermDebtNoncurrent\": \"39510000000\",\n",
            "            \"shortLongTermDebtTotal\": \"46299000000\",\n",
            "            \"otherCurrentLiabilities\": \"1561000000\",\n",
            "            \"otherNonCurrentLiabilities\": \"12103000000\",\n",
            "            \"totalShareholderEquity\": \"99252000000\",\n",
            "            \"treasuryStock\": \"1916000000\",\n",
            "            \"retainedEarnings\": \"46649000000\",\n",
            "            \"commonStock\": \"58028000000\",\n",
            "            \"commonStockSharesOutstanding\": \"1900000000\"\n",
            "        },\n",
            "        {\n",
            "            \"fiscalDateEnding\": \"2023-12-31\",\n",
            "            \"reportedCurrency\": \"USD\",\n",
            "            \"grossProfit\": \"19415000000\",\n",
            "            \"totalRevenue\": \"23549000000\",\n",
            "            \"costOfRevenue\": \"4134000000\",\n",
            "            \"costofGoodsAndServicesSold\": \"15587000000\",\n",
            "            \"operatingIncome\": \"3876000000\",\n",
            "            \"sellingGeneralAndAdministrative\": \"3783000000\",\n",
            "            \"operatingExpenses\": \"4542000000\",\n",
            "            \"investmentIncomeNet\": \"182000000\",\n",
            "            \"netInterestIncome\": \"-246000000\",\n",
            "            \"interestIncome\": \"282000000\",\n",
            "            \"interestExpense\": \"528000000\",\n",
            "            \"otherNonOperatingIncome\": \"0\",\n",
            "            \"depreciationAndAmortization\": \"451000000\",\n",
            "            \"incomeBeforeTax\": \"2631000000\",\n",
            "            \"incomeTaxExpense\": \"720000000\",\n",
            "            \"interestAndDebtExpense\": \"528000000\",\n",
            "            \"netIncomeFromContinuingOperations\": \"2151000000\",\n",
            "            \"comprehensiveIncomeNetOfTax\": \"1701000000\",\n",
            "            \"ebit\": \"3159000000\",\n",
            "            \"ebitda\": \"3610000000\",\n",
            "            \"netIncome\": \"1911000000\",\n",
            "            \"totalAssets\": \"197774000000\",\n",
            "            \"totalCurrentAssets\": \"25971000000\",\n",
            "            \"cashAndCashEquivalentsAtCarryingValue\": \"7192000000\",\n",
            "            \"cashAndShortTermInvestments\": \"7192000000\",\n",
            "            \"inventory\": \"1954000000\",\n",
            "            \"currentNetReceivables\": \"14115000000\",\n",
            "            \"totalNonCurrentAssets\": \"140324000000\",\n",
            "            \"propertyPlantEquipment\": \"35321000000\",\n",
            "            \"accumulatedDepreciationAmortizationPPE\": \"43575000000\",\n",
            "            \"intangibleAssets\": \"89705000000\",\n",
            "            \"intangibleAssetsExcludingGoodwill\": \"12639000000\",\n",
            "            \"goodwill\": \"77066000000\",\n",
            "            \"longTermInvestments\": \"3084000000\",\n",
            "            \"otherCurrentAssets\": \"1301000000\",\n",
            "            \"otherNonCurrentAssets\": \"10968000000\",\n",
            "            \"totalLiabilities\": \"97053000000\",\n",
            "            \"totalCurrentLiabilities\": \"31033000000\",\n",
            "            \"deferredRevenue\": \"7222000000\",\n",
            "            \"currentDebt\": \"6087000000\",\n",
            "            \"shortTermDebt\": \"6087000000\",\n",
            "            \"totalNonCurrentLiabilities\": \"55151000000\",\n",
            "            \"longTermDebt\": \"0\",\n",
            "            \"currentLongTermDebt\": \"6087000000\",\n",
            "            \"longTermDebtNoncurrent\": \"41603000000\",\n",
            "            \"shortLongTermDebtTotal\": \"47690000000\",\n",
            "            \"otherCurrentLiabilities\": \"6270000000\",\n",
            "            \"otherNonCurrentLiabilities\": \"12596000000\",\n",
            "            \"totalShareholderEquity\": \"100721000000\",\n",
            "            \"treasuryStock\": \"907000000\",\n",
            "            \"retainedEarnings\": \"47490000000\",\n",
            "            \"commonStock\": \"57640000000\",\n",
            "            \"commonStockSharesOutstanding\": \"1900000000\"\n",
            "        },\n",
            "        {\n",
            "            \"fiscalDateEnding\": \"2023-09-30\",\n",
            "            \"reportedCurrency\": \"USD\",\n",
            "            \"grossProfit\": \"16069000000\",\n",
            "            \"totalRevenue\": \"21241000000\",\n",
            "            \"costOfRevenue\": \"5172000000\",\n",
            "            \"costofGoodsAndServicesSold\": \"19158000000\",\n",
            "            \"operatingIncome\": \"2976000000\",\n",
            "            \"sellingGeneralAndAdministrative\": \"4021000000\",\n",
            "            \"operatingExpenses\": \"5548000000\",\n",
            "            \"investmentIncomeNet\": \"136000000\",\n",
            "            \"netInterestIncome\": \"2900000000\",\n",
            "            \"interestIncome\": \"-545000000\",\n",
            "            \"interestExpense\": \"-3445000000\",\n",
            "            \"otherNonOperatingIncome\": \"0\",\n",
            "            \"depreciationAndAmortization\": \"213000000\",\n",
            "            \"incomeBeforeTax\": \"577000000\",\n",
            "            \"incomeTaxExpense\": \"313000000\",\n",
            "            \"interestAndDebtExpense\": \"-3445000000\",\n",
            "            \"netIncomeFromContinuingOperations\": \"264000000\",\n",
            "            \"comprehensiveIncomeNetOfTax\": \"1385000000\",\n",
            "            \"ebit\": \"-2868000000\",\n",
            "            \"ebitda\": \"-2655000000\",\n",
            "            \"netIncome\": \"264000000\",\n",
            "            \"totalAssets\": \"205579000000\",\n",
            "            \"totalCurrentAssets\": \"32763000000\",\n",
            "            \"cashAndCashEquivalentsAtCarryingValue\": \"14182000000\",\n",
            "            \"cashAndShortTermInvestments\": \"14182000000\",\n",
            "            \"inventory\": \"1963000000\",\n",
            "            \"currentNetReceivables\": \"12330000000\",\n",
            "            \"totalNonCurrentAssets\": \"66422000000\",\n",
            "            \"propertyPlantEquipment\": \"34941000000\",\n",
            "            \"accumulatedDepreciationAmortizationPPE\": \"42610000000\",\n",
            "            \"intangibleAssets\": \"13061000000\",\n",
            "            \"intangibleAssetsExcludingGoodwill\": \"13061000000\",\n",
            "            \"goodwill\": \"77067000000\",\n",
            "            \"investments\": \"3080000000\",\n",
            "            \"longTermInvestments\": \"3080000000\",\n",
            "            \"otherCurrentAssets\": \"1286000000\",\n",
            "            \"otherNonCurrentAssets\": \"11076000000\",\n",
            "            \"totalLiabilities\": \"106302000000\",\n",
            "            \"totalCurrentLiabilities\": \"31139000000\",\n",
            "            \"currentAccountsPayable\": \"15125000000\",\n",
            "            \"deferredRevenue\": \"7115000000\",\n",
            "            \"currentDebt\": \"4367000000\",\n",
            "            \"shortTermDebt\": \"4330000000\",\n",
            "            \"totalNonCurrentLiabilities\": \"58611000000\",\n",
            "            \"capitalLeaseObligations\": \"206000000\",\n",
            "            \"longTermDebt\": \"46431000000\",\n",
            "            \"currentLongTermDebt\": \"4330000000\",\n",
            "            \"longTermDebtNoncurrent\": \"42101000000\",\n",
            "            \"shortLongTermDebtTotal\": \"46431000000\",\n",
            "            \"otherCurrentLiabilities\": \"209000000\",\n",
            "            \"otherNonCurrentLiabilities\": \"12069000000\",\n",
            "            \"totalShareholderEquity\": \"99277000000\",\n",
            "            \"treasuryStock\": \"907000000\",\n",
            "            \"retainedEarnings\": \"46093000000\",\n",
            "            \"commonStock\": \"57383000000\",\n",
            "            \"commonStockSharesOutstanding\": \"1800000000\"\n",
            "        },\n",
            "        {\n",
            "            \"fiscalDateEnding\": \"2023-06-30\",\n",
            "            \"reportedCurrency\": \"USD\",\n",
            "            \"grossProfit\": \"15461000000\",\n",
            "            \"totalRevenue\": \"22330000000\",\n",
            "            \"costOfRevenue\": \"6869000000\",\n",
            "            \"costofGoodsAndServicesSold\": \"14471000000\",\n",
            "            \"operatingIncome\": \"3559000000\",\n",
            "            \"sellingGeneralAndAdministrative\": \"3874000000\",\n",
            "            \"operatingExpenses\": \"7251000000\",\n",
            "            \"investmentIncomeNet\": \"111000000\",\n",
            "            \"netInterestIncome\": \"-305000000\",\n",
            "            \"interestIncome\": \"198000000\",\n",
            "            \"interestExpense\": \"503000000\",\n",
            "            \"otherNonOperatingIncome\": \"-101000000\",\n",
            "            \"depreciationAndAmortization\": \"432000000\",\n",
            "            \"incomeBeforeTax\": \"-441000000\",\n",
            "            \"incomeTaxExpense\": \"19000000\",\n",
            "            \"interestAndDebtExpense\": \"503000000\",\n",
            "            \"netIncomeFromContinuingOperations\": \"-460000000\",\n",
            "            \"comprehensiveIncomeNetOfTax\": \"-484000000\",\n",
            "            \"ebit\": \"62000000\",\n",
            "            \"ebitda\": \"494000000\",\n",
            "            \"netIncome\": \"-460000000\",\n",
            "            \"totalAssets\": \"203783000000\",\n",
            "            \"totalCurrentAssets\": \"30174000000\",\n",
            "            \"cashAndCashEquivalentsAtCarryingValue\": \"11458000000\",\n",
            "            \"cashAndShortTermInvestments\": \"11458000000\",\n",
            "            \"inventory\": \"1900000000\",\n",
            "            \"currentNetReceivables\": \"13112000000\",\n",
            "            \"totalNonCurrentAssets\": \"140180000000\",\n",
            "            \"propertyPlantEquipment\": \"34577000000\",\n",
            "            \"accumulatedDepreciationAmortizationPPE\": \"42112000000\",\n",
            "            \"intangibleAssets\": \"91359000000\",\n",
            "            \"intangibleAssetsExcludingGoodwill\": \"13478000000\",\n",
            "            \"goodwill\": \"77881000000\",\n",
            "            \"longTermInvestments\": \"3062000000\",\n",
            "            \"otherCurrentAssets\": \"1335000000\",\n",
            "            \"otherNonCurrentAssets\": \"10004000000\",\n",
            "            \"totalLiabilities\": \"106173000000\",\n",
            "            \"totalCurrentLiabilities\": \"28234000000\",\n",
            "            \"deferredRevenue\": \"7308000000\",\n",
            "            \"currentDebt\": \"2645000000\",\n",
            "            \"shortTermDebt\": \"2645000000\",\n",
            "            \"totalNonCurrentLiabilities\": \"58137000000\",\n",
            "            \"longTermDebt\": \"0\",\n",
            "            \"currentLongTermDebt\": \"2645000000\",\n",
            "            \"longTermDebtNoncurrent\": \"44544000000\",\n",
            "            \"shortLongTermDebtTotal\": \"47189000000\",\n",
            "            \"otherCurrentLiabilities\": \"6474000000\",\n",
            "            \"otherNonCurrentLiabilities\": \"12759000000\",\n",
            "            \"totalShareholderEquity\": \"97610000000\",\n",
            "            \"treasuryStock\": \"907000000\",\n",
            "            \"retainedEarnings\": \"45794000000\",\n",
            "            \"commonStock\": \"57136000000\",\n",
            "            \"commonStockSharesOutstanding\": \"1829000000\"\n",
            "        }\n",
            "    ]\n",
            "}\n"
          ]
        }
      ]
    },
    {
      "cell_type": "code",
      "source": [
        "from openai import OpenAI\n",
        "client = OpenAI(api_key=secret_key)\n",
        "\n",
        "def get_response(prompt):\n",
        "  # Create a request to the chat completions endpoint\n",
        "  response = client.chat.completions.create(\n",
        "    model=\"gpt-4o\",\n",
        "    # Assign the role and content for the message\n",
        "    messages=\n",
        "     [\n",
        "        {\n",
        "            \"role\": \"system\", \"content\": \"\"\"\n",
        "\n",
        "              Role\n",
        "              -------\n",
        "              You are a CPA Employed in the Finance Function, tasked with assessing supplier risk.\n",
        "\n",
        "              Task\n",
        "              ------\n",
        "              Analyze the provided 4 quarters of financial data.\n",
        "              Compare the financials between the four quarters, noting any significant movements or trends.\n",
        "              Evaluate the implications of these movements for the company's financial health and operational efficiency.\n",
        "\n",
        "              From the perspective of a company reciving services from this company highlight key risks in increasing purchases\n",
        "              from this purchaser based on what you have gathered from the financials.\n",
        "\n",
        "              Decide whether the team need to investigate this supplier further for risk backed up the financials.\n",
        "\n",
        "              Output\n",
        "              ------\n",
        "              Ensure the analysis reflects the specific relevant movements across the quarters,\n",
        "              highlighting significant changes relevant to their viability as a major supplier.\n",
        "              The output should strictly adhere to the data provided, avoiding assumptions or inferences not directly supported by the numbers.\n",
        "              Im printing in markdown in python ensure summary tables readible and numeric text is legible\n",
        "              Do not include any currency symbols, use 22.5M USD instead of $22.5M, display figures in millions and use thousand seperators where appropriate ie 23,100M\n",
        "\n",
        "\n",
        "              Data\n",
        "              -----\n",
        "\n",
        "            \"\"\"\n",
        "        },\n",
        "        {\n",
        "            \"role\": \"user\", \"content\": prompt\n",
        "        }\n",
        "     ],\n",
        "    temperature = 0.4,\n",
        "    max_tokens=3000)\n",
        "  return response.choices[0].message.content"
      ],
      "metadata": {
        "id": "w309wtpY89Vr"
      },
      "execution_count": 9,
      "outputs": []
    },
    {
      "cell_type": "code",
      "source": [
        "output = get_response(out_string)"
      ],
      "metadata": {
        "id": "tIq-E_8eC-f4"
      },
      "execution_count": 10,
      "outputs": []
    },
    {
      "cell_type": "code",
      "source": [
        "display(Markdown(output))"
      ],
      "metadata": {
        "id": "zLZY5-ZmttQM",
        "colab": {
          "base_uri": "https://localhost:8080/",
          "height": 1000
        },
        "outputId": "1702b935-ab98-44a5-9cca-45818e71ff58"
      },
      "execution_count": 11,
      "outputs": [
        {
          "output_type": "display_data",
          "data": {
            "text/plain": [
              "<IPython.core.display.Markdown object>"
            ],
            "text/markdown": "## Financial Analysis of Supplier\n\n### Summary of Financial Data\n\n| Fiscal Date Ending | Total Revenue (M) | Gross Profit (M) | Operating Income (M) | Net Income (M) | Total Assets (M) | Total Liabilities (M) | Total Shareholder Equity (M) |\n|--------------------|-------------------|------------------|----------------------|----------------|------------------|-----------------------|------------------------------|\n| 2024-03-31         | 22,083            | 15,910           | 3,845                | -20            | 195,110          | 95,858                | 99,252                       |\n| 2023-12-31         | 23,549            | 19,415           | 3,876                | 1,911          | 197,774          | 97,053                | 100,721                      |\n| 2023-09-30         | 21,241            | 16,069           | 2,976                | 264            | 205,579          | 106,302               | 99,277                       |\n| 2023-06-30         | 22,330            | 15,461           | 3,559                | -460           | 203,783          | 106,173               | 97,610                       |\n\n### Key Financial Movements and Trends\n\n1. **Revenue and Profitability:**\n   - **Revenue:** The revenue fluctuated across the quarters, with a peak in Q4 2023 (23,549M) and a dip in Q3 2023 (21,241M). The latest quarter (Q1 2024) shows a slight recovery to 22,083M.\n   - **Gross Profit:** Gross profit followed a similar trend, peaking in Q4 2023 (19,415M) and dipping in Q3 2023 (16,069M). The latest quarter (Q1 2024) shows a gross profit of 15,910M.\n   - **Operating Income:** Operating income remained relatively stable, with minor fluctuations. The highest was in Q4 2023 (3,876M), and the lowest was in Q3 2023 (2,976M).\n   - **Net Income:** Net income showed significant volatility, with a notable loss in Q2 2023 (-460M) and a peak in Q4 2023 (1,911M). The latest quarter (Q1 2024) reported a slight loss (-20M).\n\n2. **Assets and Liabilities:**\n   - **Total Assets:** Total assets showed a slight decrease from Q3 2023 (205,579M) to Q1 2024 (195,110M).\n   - **Total Liabilities:** Total liabilities decreased from Q3 2023 (106,302M) to Q1 2024 (95,858M), indicating some deleveraging.\n   - **Total Shareholder Equity:** Shareholder equity remained relatively stable, with minor fluctuations, ending at 99,252M in Q1 2024.\n\n3. **Cash and Receivables:**\n   - **Cash and Cash Equivalents:** There was a significant decrease in cash from Q3 2023 (14,182M) to Q1 2024 (6,635M).\n   - **Current Net Receivables:** Receivables decreased from Q4 2023 (14,115M) to Q1 2024 (12,026M).\n\n4. **Debt:**\n   - **Current Debt:** Current debt increased from Q2 2023 (2,645M) to Q1 2024 (6,789M).\n   - **Long-term Debt:** Long-term debt remained significant, with a slight decrease from Q3 2023 (46,431M) to Q1 2024 (39,510M).\n\n### Implications for Financial Health and Operational Efficiency\n\n- **Revenue and Profitability Volatility:** The fluctuations in revenue and profitability indicate potential instability in the company's operations or market conditions. The recent losses in Q2 2023 and Q1 2024 are concerning.\n- **Decreasing Cash Reserves:** The significant decrease in cash reserves could impact the company's liquidity and its ability to meet short-term obligations.\n- **High Debt Levels:** The high levels of both current and long-term debt pose a risk, especially with the increasing current debt. This could strain the company's cash flow and financial stability.\n- **Decreasing Receivables:** The decrease in receivables suggests potential issues in collecting payments from customers, which could further strain liquidity.\n\n### Key Risks in Increasing Purchases from this Supplier\n\n1. **Financial Instability:** The volatility in revenue and profitability, along with recent losses, indicates potential financial instability.\n2. **Liquidity Concerns:** The significant decrease in cash reserves and high current debt levels raise concerns about the company's ability to meet short-term obligations.\n3. **High Debt Levels:** The substantial long-term debt could impact the company's financial flexibility and increase the risk of default.\n4. **Decreasing Receivables:** Potential issues in collecting payments could affect the company's cash flow and operational efficiency.\n\n### Recommendation\n\nGiven the observed financial instability, liquidity concerns, high debt levels, and potential issues with receivables, it is advisable to investigate this supplier further for risk. The financial data suggests that there are significant risks in increasing purchases from this supplier without a thorough risk assessment."
          },
          "metadata": {}
        }
      ]
    }
  ]
}
