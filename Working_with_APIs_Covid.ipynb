{
  "nbformat": 4,
  "nbformat_minor": 0,
  "metadata": {
    "colab": {
      "provenance": [],
      "include_colab_link": true
    },
    "kernelspec": {
      "name": "python3",
      "display_name": "Python 3"
    },
    "language_info": {
      "name": "python"
    }
  },
  "cells": [
    {
      "cell_type": "markdown",
      "metadata": {
        "id": "view-in-github",
        "colab_type": "text"
      },
      "source": [
        "<a href=\"https://colab.research.google.com/github/SuperDataWorld/Python/blob/main/Working_with_APIs_Covid.ipynb\" target=\"_parent\"><img src=\"https://colab.research.google.com/assets/colab-badge.svg\" alt=\"Open In Colab\"/></a>"
      ]
    },
    {
      "cell_type": "markdown",
      "source": [
        "\n",
        "## Public API \n",
        "Data can retrieved from an API publically or with a key<br> A publically avaliable example is the covid API (https://api.covid19api.com/summary)\n",
        "\n"
      ],
      "metadata": {
        "id": "xqkvfYt7gIP_"
      }
    },
    {
      "cell_type": "code",
      "source": [
        "# Request Liabrary can pull a reponse from an API \n",
        "import requests\n",
        "response = requests.get('https://api.covid19api.com/summary').text"
      ],
      "metadata": {
        "id": "GZqLW9Rhex4y"
      },
      "execution_count": null,
      "outputs": []
    },
    {
      "cell_type": "code",
      "source": [
        "# This response is in JSON \n",
        "response"
      ],
      "metadata": {
        "id": "xTPEYNihe02o"
      },
      "execution_count": null,
      "outputs": []
    },
    {
      "cell_type": "code",
      "source": [
        "# We can use the JSON library to parse this in to a dictionary\n",
        "import json \n",
        "y = json.loads(response)"
      ],
      "metadata": {
        "id": "zugv_VNnf5ap"
      },
      "execution_count": null,
      "outputs": []
    },
    {
      "cell_type": "code",
      "source": [
        "# We can confirm this is a dictionary with the type function \n",
        "type(y)"
      ],
      "metadata": {
        "id": "tykMQLhcgrMo"
      },
      "execution_count": null,
      "outputs": []
    },
    {
      "cell_type": "code",
      "source": [
        "# This is a large dictionary but follows a pattern - We are interested in Country level details\n",
        "y"
      ],
      "metadata": {
        "id": "3TW9R7_8syJN"
      },
      "execution_count": null,
      "outputs": []
    },
    {
      "cell_type": "code",
      "source": [
        "# We can count the number of countries by using the len function \n",
        "len(y['Countries'])"
      ],
      "metadata": {
        "id": "RK83MxoXhN3v"
      },
      "execution_count": null,
      "outputs": []
    },
    {
      "cell_type": "code",
      "source": [
        "\n",
        "# The first element with country has a country of Afghanistan\n",
        "y['Countries'][0]['Country']"
      ],
      "metadata": {
        "id": "VGnQcxaWh2zP"
      },
      "execution_count": null,
      "outputs": []
    },
    {
      "cell_type": "code",
      "source": [
        "# We can see how many deaths have taken place \n",
        "y['Countries'][0]['NewDeaths']"
      ],
      "metadata": {
        "id": "pgrL-KDzikqm"
      },
      "execution_count": null,
      "outputs": []
    },
    {
      "cell_type": "code",
      "source": [
        "# We can use f'strings to format a print statement containing elements\n",
        "f\"{y['Countries'][0]['Country']} has had {y['Countries'][0]['TotalDeaths']} total deaths from COVID 19\""
      ],
      "metadata": {
        "id": "v7V8J_-_iy1H"
      },
      "execution_count": null,
      "outputs": []
    },
    {
      "cell_type": "code",
      "source": [
        "# We can do this a number of countries using range\n",
        "for i in range(10):\n",
        "  print(f\"{y['Countries'][i]['Country']} has had {y['Countries'][i]['TotalDeaths']} total deaths from COVID 19\")"
      ],
      "metadata": {
        "id": "gzVnauQWjV1p"
      },
      "execution_count": null,
      "outputs": []
    },
    {
      "cell_type": "code",
      "source": [
        "# This data can all be added to a dataframe\n",
        "import pandas as pd\n",
        "df = pd.DataFrame(data=y['Countries'])"
      ],
      "metadata": {
        "id": "W-VI3OwHksmO"
      },
      "execution_count": null,
      "outputs": []
    },
    {
      "cell_type": "code",
      "source": [
        "df.head(10)"
      ],
      "metadata": {
        "id": "tH2u0D3llanW"
      },
      "execution_count": null,
      "outputs": []
    },
    {
      "cell_type": "code",
      "source": [
        "# From the dataframe we can get the index of the country with the maximum deaths and cases \n",
        "most_new_cases = df['NewConfirmed'].idxmax()\n",
        "most_new_deaths = df['NewDeaths'].idxmax()"
      ],
      "metadata": {
        "id": "YvdO0pfclbbH"
      },
      "execution_count": null,
      "outputs": []
    },
    {
      "cell_type": "code",
      "source": [
        "# We can display this automatically \n",
        "print(f\" Good Morning here is your daily covid report.\\n \n",
        "The most daily confirmed cases look place in {df['Country'].loc[most_new_cases]} \n",
        "with {df['NewConfirmed'].loc[most_new_cases]} new cases.\\n The most deaths occured \n",
        "in {df['Country'].loc[most_new_deaths]} with {df['NewDeaths'].loc[most_new_deaths]} new deaths.\")"
      ],
      "metadata": {
        "id": "qjar1BwlmFKV"
      },
      "execution_count": null,
      "outputs": []
    }
  ]
}