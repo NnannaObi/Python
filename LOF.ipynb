{
  "nbformat": 4,
  "nbformat_minor": 0,
  "metadata": {
    "colab": {
      "name": "LOF.ipynb",
      "provenance": [],
      "include_colab_link": true
    },
    "kernelspec": {
      "name": "python3",
      "display_name": "Python 3"
    },
    "language_info": {
      "name": "python"
    }
  },
  "cells": [
    {
      "cell_type": "markdown",
      "metadata": {
        "id": "view-in-github",
        "colab_type": "text"
      },
      "source": [
        "<a href=\"https://colab.research.google.com/github/SuperDataWorld/Python/blob/main/LOF.ipynb\" target=\"_parent\"><img src=\"https://colab.research.google.com/assets/colab-badge.svg\" alt=\"Open In Colab\"/></a>"
      ]
    },
    {
      "cell_type": "code",
      "source": [
        "import random\n",
        "import pandas as pd\n",
        "\n",
        "pct = [.01,.08,.12]\n",
        "amounts = [1000, 2000, 3000]\n",
        "charges = pd.DataFrame()\n",
        "\n",
        "for i in range(0, 1000):\n",
        "  amount = random.choice(amounts) * (random.uniform(.95, 1.05))\n",
        "  bank_charge = amount * .04 * (random.uniform(.95, 1.05))\n",
        "  linedict = {'Amount': [amount], 'Charge':[bank_charge]}\n",
        "  line = pd.DataFrame(linedict)\n",
        "  charges = pd.concat([charges, line])\n",
        "\n",
        "for i in range(0, 10):\n",
        "  amount = random.choice(amounts) * (random.uniform(.95, 1.05))\n",
        "  bank_charge = amount * random.choice(pct) * (random.uniform(.95, 1.05))\n",
        "  linedict = {'Amount': [amount], 'Charge':[bank_charge]}\n",
        "  line = pd.DataFrame(linedict)\n",
        "  charges = pd.concat([charges, line])"
      ],
      "metadata": {
        "id": "xlnPkGURlaC1"
      },
      "execution_count": null,
      "outputs": []
    },
    {
      "cell_type": "code",
      "source": [
        "charges.head(10)"
      ],
      "metadata": {
        "id": "pRt8k3PRt5yN"
      },
      "execution_count": null,
      "outputs": []
    },
    {
      "cell_type": "code",
      "source": [
        "charges.tail(10)"
      ],
      "metadata": {
        "id": "AOe4Tn6qhUeP"
      },
      "execution_count": null,
      "outputs": []
    },
    {
      "cell_type": "code",
      "source": [
        "import numpy as np\n",
        "from sklearn.neighbors import LocalOutlierFactor\n",
        "clf = LocalOutlierFactor(n_neighbors=30)\n",
        "normalized_df=(charges-charges.mean())/charges.std()\n",
        "\n",
        "clf.fit_predict(normalized_df)\n",
        "results = clf.negative_outlier_factor_\n",
        "charges['LOF'] = results.tolist()\n",
        "charges['PCT'] = charges['Charge'] / charges['Amount']"
      ],
      "metadata": {
        "id": "PsljfQOGvjfq"
      },
      "execution_count": null,
      "outputs": []
    },
    {
      "cell_type": "code",
      "source": [
        "import matplotlib.pyplot as plt\n",
        "plt.scatter(charges.Amount, charges.Charge, c='black', s=charges.LOF * -1,label=\"Data Points\")\n",
        "radius = (results.max() - results) / (results.max() - results.min())\n",
        "plt.scatter(charges.Amount, charges.Charge, s=500 * radius,edgecolors=\"r\",facecolors=\"none\",label=\"Outlier scores\",)\n",
        "legend = plt.legend(loc=\"upper left\")\n",
        "legend.legendHandles[0]._sizes = [10]\n",
        "legend.legendHandles[1]._sizes = [20]\n",
        "plt.show()\n"
      ],
      "metadata": {
        "id": "gJoBLkrLlZ61"
      },
      "execution_count": null,
      "outputs": []
    },
    {
      "cell_type": "code",
      "source": [
        "charges.query('LOF < -1.5')"
      ],
      "metadata": {
        "id": "2vD1dpO3lCyC"
      },
      "execution_count": null,
      "outputs": []
    }
  ]
}