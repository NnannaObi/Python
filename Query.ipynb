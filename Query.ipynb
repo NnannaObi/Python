{
  "nbformat": 4,
  "nbformat_minor": 0,
  "metadata": {
    "colab": {
      "name": "Query.ipynb",
      "provenance": [],
      "authorship_tag": "ABX9TyM9el45rKwsHbx33dJ/wsYf",
      "include_colab_link": true
    },
    "kernelspec": {
      "name": "python3",
      "display_name": "Python 3"
    },
    "language_info": {
      "name": "python"
    }
  },
  "cells": [
    {
      "cell_type": "markdown",
      "metadata": {
        "id": "view-in-github",
        "colab_type": "text"
      },
      "source": [
        "<a href=\"https://colab.research.google.com/github/SuperDataWorld/Python/blob/main/Query.ipynb\" target=\"_parent\"><img src=\"https://colab.research.google.com/assets/colab-badge.svg\" alt=\"Open In Colab\"/></a>"
      ]
    },
    {
      "cell_type": "markdown",
      "source": [
        "#Data Import"
      ],
      "metadata": {
        "id": "dJC6Cu21Xc1Z"
      }
    },
    {
      "cell_type": "code",
      "source": [
        "import pandas as pd\n",
        "df = pd.read_csv('https://raw.githubusercontent.com/SuperDataWorld/Python/main/Data/euro2016goals.csv')"
      ],
      "metadata": {
        "id": "kS-UUCZLXgrp"
      },
      "execution_count": null,
      "outputs": []
    },
    {
      "cell_type": "code",
      "source": [
        "df.head()"
      ],
      "metadata": {
        "id": "HCFGf99qZiOf"
      },
      "execution_count": null,
      "outputs": []
    },
    {
      "cell_type": "code",
      "source": [
        "df = df[['FULL_NAME','AGE','POSITION','GOALS_OVERALL','ASSISTS_OVERALL','YELLOW_CARDS_OVERALL','PENALTY_GOALS','RED_CARDS_OVERALL']]\n",
        "df.columns = ['Name','AGE','Pos','Goals','Assists','YC','Pens','RC']\n",
        "df.head()"
      ],
      "metadata": {
        "id": "Jt0Uuh1VXdvv"
      },
      "execution_count": null,
      "outputs": []
    },
    {
      "cell_type": "markdown",
      "source": [
        "# Traditional Querying"
      ],
      "metadata": {
        "id": "rp3EfgqlXOBO"
      }
    },
    {
      "cell_type": "code",
      "source": [
        "df.AGE > 30"
      ],
      "metadata": {
        "id": "_yOzgEOYaEiD"
      },
      "execution_count": null,
      "outputs": []
    },
    {
      "cell_type": "code",
      "source": [
        "df['AGE'] > 30"
      ],
      "metadata": {
        "id": "EFUsTHkWcmJt"
      },
      "execution_count": null,
      "outputs": []
    },
    {
      "cell_type": "code",
      "source": [
        "df[df['AGE'] > 20]"
      ],
      "metadata": {
        "id": "1vIHq4T6aEui"
      },
      "execution_count": null,
      "outputs": []
    },
    {
      "cell_type": "code",
      "execution_count": null,
      "metadata": {
        "id": "9cFjIloqW0fE"
      },
      "outputs": [],
      "source": [
        "df[(df['AGE'] > 25) & (df['Goals'] > 1) & (df['Pens'] == 1)]"
      ]
    },
    {
      "cell_type": "code",
      "source": [
        "df[(df['AGE'] > 25) & (df['Goals'] > 1) & (df['Pens'] == 1) & (df['Pos'] == 'Forward')]"
      ],
      "metadata": {
        "id": "8wbpZHAVdnWo"
      },
      "execution_count": null,
      "outputs": []
    },
    {
      "cell_type": "markdown",
      "source": [
        "# DF.Query"
      ],
      "metadata": {
        "id": "j7xLoTIlXO_0"
      }
    },
    {
      "cell_type": "code",
      "source": [
        "df.query('AGE > 20')"
      ],
      "metadata": {
        "id": "cOwday_xaFhT"
      },
      "execution_count": null,
      "outputs": []
    },
    {
      "cell_type": "code",
      "source": [
        "df.query('AGE > 20 & Goals > 1 & Pens == 1')"
      ],
      "metadata": {
        "id": "diOUhFBmaFaT"
      },
      "execution_count": null,
      "outputs": []
    },
    {
      "cell_type": "code",
      "source": [
        "df.query('AGE > 20 & Goals > 1 & Pens == 1 & Pos == \"Forward\"')"
      ],
      "metadata": {
        "id": "dFthlyLJXarx"
      },
      "execution_count": null,
      "outputs": []
    }
  ]
}