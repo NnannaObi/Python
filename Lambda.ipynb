{
  "nbformat": 4,
  "nbformat_minor": 0,
  "metadata": {
    "colab": {
      "name": "Lambda.ipynb",
      "provenance": [],
      "authorship_tag": "ABX9TyPD1CzaPcBp0SMMePxOSFM2",
      "include_colab_link": true
    },
    "kernelspec": {
      "name": "python3",
      "display_name": "Python 3"
    },
    "language_info": {
      "name": "python"
    }
  },
  "cells": [
    {
      "cell_type": "markdown",
      "metadata": {
        "id": "view-in-github",
        "colab_type": "text"
      },
      "source": [
        "<a href=\"https://colab.research.google.com/github/SuperDataWorld/Python/blob/main/Lambda.ipynb\" target=\"_parent\"><img src=\"https://colab.research.google.com/assets/colab-badge.svg\" alt=\"Open In Colab\"/></a>"
      ]
    },
    {
      "cell_type": "markdown",
      "metadata": {
        "id": "8ym3nBQ8TeFG"
      },
      "source": [
        "Lambda Expression V Regular Functions"
      ]
    },
    {
      "cell_type": "code",
      "metadata": {
        "id": "66nLT6T1fdj6"
      },
      "source": [
        "# Creating a function \n",
        "def squared(num):\n",
        "  return num ** 2\n",
        "print(squared(4))\n",
        "\n",
        "# using a lambda expression\n",
        "(lambda x: x**2)(4)"
      ],
      "execution_count": null,
      "outputs": []
    },
    {
      "cell_type": "markdown",
      "metadata": {
        "id": "Sh1zOHnMlG3D"
      },
      "source": [
        "Lambda Expression if If Statement"
      ]
    },
    {
      "cell_type": "code",
      "metadata": {
        "id": "m5hfi561lMg4"
      },
      "source": [
        "num = 5\n",
        "\n",
        "if(num > 4):\n",
        "   print('Greater') \n",
        "else: \n",
        "   print('Less')\n",
        "\n",
        "(lambda x: 'Greater' if x > 4 else 'Less')(num)\n"
      ],
      "execution_count": null,
      "outputs": []
    },
    {
      "cell_type": "markdown",
      "metadata": {
        "id": "Eg9iUYYZTgKT"
      },
      "source": [
        "Lambda Expression in Dataframes with Apply"
      ]
    },
    {
      "cell_type": "code",
      "metadata": {
        "id": "N217pIwxTf4k"
      },
      "source": [
        "import pandas as pd\n",
        "\n",
        "df=pd.DataFrame({\n",
        "    'id':[1,2,3,4,5],\n",
        "    'name':['Paul','Tim','Mary','Tony','Sam'],\n",
        "    'age':[31,45,90,20,35],\n",
        "    'income':[50000,70000,25000,5000,100000],\n",
        "    'married':[True, False, True, False, True]\n",
        "})\n",
        "\n",
        "print(df.head())\n",
        "df['lamdba cat'] = df['income'].apply(lambda x: 'high income' if x > 30000 else ('medium income' if x > 7500 else 'low income'))\n",
        "\n",
        "print(df.head())\n"
      ],
      "execution_count": null,
      "outputs": []
    },
    {
      "cell_type": "markdown",
      "metadata": {
        "id": "trHST7vVThVV"
      },
      "source": [
        "Advanced Filtering "
      ]
    },
    {
      "cell_type": "code",
      "metadata": {
        "id": "q-F0KmiGptM8"
      },
      "source": [
        "df[(df['age'] > 20) & (df['income'] * 3.5 > 100000)]"
      ],
      "execution_count": null,
      "outputs": []
    },
    {
      "cell_type": "code",
      "metadata": {
        "id": "p1rqtCVcptCR"
      },
      "source": [
        "df[len(df['name'] > 3)]"
      ],
      "execution_count": null,
      "outputs": []
    },
    {
      "cell_type": "code",
      "metadata": {
        "id": "D-aveCQQTh8r"
      },
      "source": [
        "df[df.apply(lambda x : (x['age'] > 20) & (x['income'] * 3.5 > 100000) & (len(x['name']) <= 3),axis=1) & (df[\"age\"] < df[\"age\"].mean())]\n"
      ],
      "execution_count": null,
      "outputs": []
    },
    {
      "cell_type": "markdown",
      "metadata": {
        "id": "lN33xSFzk3FL"
      },
      "source": [
        "Change Case"
      ]
    },
    {
      "cell_type": "code",
      "metadata": {
        "id": "RmOsxX3Xqv_P"
      },
      "source": [
        "df['name'].apply(lambda x: x.upper())"
      ],
      "execution_count": null,
      "outputs": []
    },
    {
      "cell_type": "code",
      "metadata": {
        "id": "zRKQtyTqkwB8"
      },
      "source": [
        "df['name'].apply(lambda x: x.lower())"
      ],
      "execution_count": null,
      "outputs": []
    }
  ]
}