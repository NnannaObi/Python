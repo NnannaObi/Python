{
  "nbformat": 4,
  "nbformat_minor": 0,
  "metadata": {
    "colab": {
      "provenance": [],
      "authorship_tag": "ABX9TyOtdIzYDE8gUyle84xKEEeT",
      "include_colab_link": true
    },
    "kernelspec": {
      "name": "python3",
      "display_name": "Python 3"
    },
    "language_info": {
      "name": "python"
    }
  },
  "cells": [
    {
      "cell_type": "markdown",
      "metadata": {
        "id": "view-in-github",
        "colab_type": "text"
      },
      "source": [
        "<a href=\"https://colab.research.google.com/github/analyticswithadam/Python/blob/main/Query_Big_Query_from_Python_Notebook.ipynb\" target=\"_parent\"><img src=\"https://colab.research.google.com/assets/colab-badge.svg\" alt=\"Open In Colab\"/></a>"
      ]
    },
    {
      "cell_type": "code",
      "source": [
        "!pip install --upgrade google-cloud-bigquery"
      ],
      "metadata": {
        "id": "n4LvC5cZK3x2"
      },
      "execution_count": null,
      "outputs": []
    },
    {
      "cell_type": "code",
      "source": [
        "from google.colab import auth\n",
        "auth.authenticate_user()\n",
        "print('Authenticated')"
      ],
      "metadata": {
        "id": "mrdyqZ1CKTcD"
      },
      "execution_count": null,
      "outputs": []
    },
    {
      "cell_type": "code",
      "source": [
        "# Set your Google Cloud Project ID\n",
        "project_id = 'sqlcourse-352110'"
      ],
      "metadata": {
        "id": "z3T36Uz5O1gS"
      },
      "execution_count": null,
      "outputs": []
    },
    {
      "cell_type": "code",
      "source": [
        "from google.cloud import bigquery\n",
        "import pandas as pd\n",
        "\n",
        "# Create a BigQuery client\n",
        "client = bigquery.Client(project=project_id)"
      ],
      "metadata": {
        "id": "A842uhabLhK1"
      },
      "execution_count": null,
      "outputs": []
    },
    {
      "cell_type": "code",
      "source": [
        "query = \"\"\"\n",
        "          SELECT name, SUM(number) as count\n",
        "          FROM `bigquery-public-data.usa_names.usa_1910_current`\n",
        "          GROUP BY name\n",
        "          ORDER BY count DESC\n",
        "          LIMIT 10\n",
        "        \"\"\"\n",
        "\n",
        "query_job = client.query(query)"
      ],
      "metadata": {
        "id": "7wObBCmuOQWW"
      },
      "execution_count": null,
      "outputs": []
    },
    {
      "cell_type": "code",
      "source": [
        "df = query_job.to_dataframe()\n",
        "df"
      ],
      "metadata": {
        "id": "8DKwm7WyOTqY"
      },
      "execution_count": null,
      "outputs": []
    },
    {
      "cell_type": "code",
      "source": [
        "%%bigquery df --project sqlcourse-352110\n",
        "SELECT name, SUM(number) as count\n",
        "          FROM `bigquery-public-data.usa_names.usa_1910_current`\n",
        "          GROUP BY name\n",
        "          ORDER BY count DESC\n",
        "          LIMIT 10"
      ],
      "metadata": {
        "id": "B1Lgc64LRW_V"
      },
      "execution_count": null,
      "outputs": []
    },
    {
      "cell_type": "code",
      "source": [
        "df"
      ],
      "metadata": {
        "id": "GMroggFISQsV"
      },
      "execution_count": null,
      "outputs": []
    }
  ]
}