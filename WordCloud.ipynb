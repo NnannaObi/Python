{
  "nbformat": 4,
  "nbformat_minor": 0,
  "metadata": {
    "colab": {
      "provenance": [],
      "authorship_tag": "ABX9TyMV4dzU5X0HHevhQb+jHILU",
      "include_colab_link": true
    },
    "kernelspec": {
      "name": "python3",
      "display_name": "Python 3"
    },
    "language_info": {
      "name": "python"
    }
  },
  "cells": [
    {
      "cell_type": "markdown",
      "metadata": {
        "id": "view-in-github",
        "colab_type": "text"
      },
      "source": [
        "<a href=\"https://colab.research.google.com/github/SuperDataWorld/Python/blob/main/WordCloud.ipynb\" target=\"_parent\"><img src=\"https://colab.research.google.com/assets/colab-badge.svg\" alt=\"Open In Colab\"/></a>"
      ]
    },
    {
      "cell_type": "code",
      "execution_count": null,
      "metadata": {
        "id": "E3nWmsQ1jyNE"
      },
      "outputs": [],
      "source": [
        "# Install wordcloud if needed\n",
        "!pip install wordcloud\n",
        "\n",
        "# Imports \n",
        "from wordcloud import WordCloud, STOPWORDS\n",
        "import pandas as pd\n",
        "import matplotlib.pyplot as plt\n",
        "\n",
        "# URL for colormaps \n",
        "# https://matplotlib.org/stable/tutorials/colors/colormaps.html\n"
      ]
    },
    {
      "cell_type": "code",
      "source": [
        "# Import Data\n",
        "df = pd.read_csv('https://raw.githubusercontent.com/SuperDataWorld/Python/main/REF%20TWEETS.csv')"
      ],
      "metadata": {
        "id": "dle1j0ICkSqB"
      },
      "execution_count": null,
      "outputs": []
    },
    {
      "cell_type": "code",
      "source": [
        "# Unify Text from all weeks\n",
        "text = df['Tweet'].str.cat(sep=' ')"
      ],
      "metadata": {
        "id": "yP-gfk3MmUDU"
      },
      "execution_count": null,
      "outputs": []
    },
    {
      "cell_type": "code",
      "source": [
        "#set the stopwords list\n",
        "stopwords= set(STOPWORDS)\n",
        "new_words = []\n",
        "new_stopwords=stopwords.union(new_words)"
      ],
      "metadata": {
        "id": "ORtDDoURkSxT"
      },
      "execution_count": null,
      "outputs": []
    },
    {
      "cell_type": "code",
      "source": [
        "# Size of Word Cloud\n",
        "plt.rcParams[\"figure.figsize\"] = (10,10)\n",
        "\n",
        "# Make Wordcloud\n",
        "wordcloud = WordCloud(max_font_size=50, max_words=50, background_color=\"white\",stopwords=new_stopwords, colormap='flag').generate(text)\n",
        "\n",
        "# Plot Wordcloud\n",
        "plt.plot()\n",
        "plt.imshow(wordcloud, interpolation=\"bilinear\")\n",
        "plt.axis(\"off\")\n",
        "plt.show()"
      ],
      "metadata": {
        "id": "OMmb3X0AkSuI"
      },
      "execution_count": null,
      "outputs": []
    },
    {
      "cell_type": "code",
      "source": [
        "# Unify Text from tweets of different sentiment\n",
        "text = df[df['Sentiment']=='Negative']['Tweet'].str.cat(sep=' ')"
      ],
      "metadata": {
        "id": "0czKVYskotsY"
      },
      "execution_count": null,
      "outputs": []
    },
    {
      "cell_type": "code",
      "source": [
        "wordcloud = WordCloud(max_font_size=50, max_words=50, background_color=\"white\",stopwords=new_stopwords, colormap='flag').generate(text)\n",
        "plt.plot()\n",
        "plt.imshow(wordcloud, interpolation=\"bilinear\")\n",
        "plt.axis(\"off\")\n",
        "plt.show()"
      ],
      "metadata": {
        "id": "MjAp8u7Oo9xB"
      },
      "execution_count": null,
      "outputs": []
    },
    {
      "cell_type": "code",
      "source": [],
      "metadata": {
        "id": "uJ0fgtW0pDWU"
      },
      "execution_count": null,
      "outputs": []
    }
  ]
}