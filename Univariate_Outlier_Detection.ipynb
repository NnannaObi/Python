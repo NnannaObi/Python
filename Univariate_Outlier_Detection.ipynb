{
  "nbformat": 4,
  "nbformat_minor": 0,
  "metadata": {
    "colab": {
      "name": "Univariate Outlier Detection.ipynb",
      "provenance": [],
      "authorship_tag": "ABX9TyN3D1T7tGc5nw9P9ik0zWCd",
      "include_colab_link": true
    },
    "kernelspec": {
      "name": "python3",
      "display_name": "Python 3"
    },
    "language_info": {
      "name": "python"
    }
  },
  "cells": [
    {
      "cell_type": "markdown",
      "metadata": {
        "id": "view-in-github",
        "colab_type": "text"
      },
      "source": [
        "<a href=\"https://colab.research.google.com/github/SuperDataWorld/Python/blob/main/Univariate_Outlier_Detection.ipynb\" target=\"_parent\"><img src=\"https://colab.research.google.com/assets/colab-badge.svg\" alt=\"Open In Colab\"/></a>"
      ]
    },
    {
      "cell_type": "code",
      "execution_count": null,
      "metadata": {
        "id": "e5Hdn6y65LMr"
      },
      "outputs": [],
      "source": [
        "import pandas as pd\n",
        "import matplotlib.pyplot as plt\n",
        "import seaborn as sns\n",
        "%matplotlib inline"
      ]
    },
    {
      "cell_type": "code",
      "source": [
        "df = pd.read_csv('https://raw.githubusercontent.com/SuperDataWorld/Python/main/Data/bikerental.csv')"
      ],
      "metadata": {
        "id": "_Q0W1pdT5yHP"
      },
      "execution_count": null,
      "outputs": []
    },
    {
      "cell_type": "code",
      "source": [
        "df.describe()"
      ],
      "metadata": {
        "id": "kczTodol9mj9"
      },
      "execution_count": null,
      "outputs": []
    },
    {
      "cell_type": "code",
      "source": [
        "df.head()"
      ],
      "metadata": {
        "id": "U2Y7onin8XVT"
      },
      "execution_count": null,
      "outputs": []
    },
    {
      "cell_type": "code",
      "source": [
        "sns.set_palette(\"bone_r\")\n",
        "f , axes = plt.subplots(nrows=1, ncols=3, figsize = (20,4))\n",
        "sns.set_style(\"darkgrid\")\n",
        "\n",
        "fig1 = sns.boxplot(y= df.windspeed, ax = axes[0] )\n",
        "fig2 = sns.boxplot(y= df.hum, ax = axes[1] )\n",
        "fig3 = sns.boxplot(y=df.casual, ax = axes[2] )\n",
        "plt.show()"
      ],
      "metadata": {
        "id": "j29b746T5jSj"
      },
      "execution_count": null,
      "outputs": []
    },
    {
      "cell_type": "code",
      "source": [
        "df.windspeed.quantile(.25)"
      ],
      "metadata": {
        "id": "exMkzpmv5jPu"
      },
      "execution_count": null,
      "outputs": []
    },
    {
      "cell_type": "code",
      "source": [
        "IQR = df.windspeed.quantile(.75) - df.windspeed.quantile(.25)\n",
        "IQR"
      ],
      "metadata": {
        "id": "HlJJmRgp5jLs"
      },
      "execution_count": null,
      "outputs": []
    },
    {
      "cell_type": "code",
      "source": [
        "whisker  = (df.windspeed.quantile(.75) - df.windspeed.quantile(.25)) * 1.5\n",
        "whisker\n"
      ],
      "metadata": {
        "id": "Ln9tWtPi8hY5"
      },
      "execution_count": null,
      "outputs": []
    },
    {
      "cell_type": "code",
      "source": [
        "lower_range = df.windspeed.quantile(.25) - whisker \n",
        "upper_range = df.windspeed.quantile(.75) + whisker "
      ],
      "metadata": {
        "id": "iUTmOyng_T_o"
      },
      "execution_count": null,
      "outputs": []
    },
    {
      "cell_type": "code",
      "source": [
        "df.query('windspeed > @upper_range | windspeed < @lower_range' )"
      ],
      "metadata": {
        "id": "FkmocZzB_-KH"
      },
      "execution_count": null,
      "outputs": []
    },
    {
      "cell_type": "code",
      "source": [
        "def findoutliers(col):\n",
        "  whisker  = (col.quantile(.75) - col.quantile(.25)) * 1.5\n",
        "  lower_range = col.quantile(.25) - whisker \n",
        "  upper_range = col.quantile(.75) + whisker\n",
        "  return df.query('@col > @upper_range | @col < @lower_range')"
      ],
      "metadata": {
        "id": "wpCrLGE-Bm38"
      },
      "execution_count": null,
      "outputs": []
    },
    {
      "cell_type": "code",
      "source": [
        "findoutliers(df.hum)"
      ],
      "metadata": {
        "id": "AQ9zNDdpB6SQ"
      },
      "execution_count": null,
      "outputs": []
    },
    {
      "cell_type": "code",
      "source": [
        "cas = findoutliers(df.casual)"
      ],
      "metadata": {
        "id": "yQ46dhD-CdVi"
      },
      "execution_count": null,
      "outputs": []
    },
    {
      "cell_type": "code",
      "source": [
        "cas"
      ],
      "metadata": {
        "id": "m60lEUO9EEc-"
      },
      "execution_count": null,
      "outputs": []
    }
  ]
}